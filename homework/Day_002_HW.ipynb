{
 "cells": [
  {
   "cell_type": "markdown",
   "metadata": {},
   "source": [
    "## [作業目標]\n",
    "了解機器學習適合應用的領域與範疇。"
   ]
  },
  {
   "cell_type": "markdown",
   "metadata": {},
   "source": [
    "## [作業重點]\n",
    "透過瞭解機器學習的運作方式，找出非常適用機器學習應用的領域及其原因"
   ]
  },
  {
   "cell_type": "markdown",
   "metadata": {},
   "source": [
    "## 作業\n",
    "    請找出一個你認為機器學習可以發光發熱的領域並闡述原因?\n",
    "\n",
    "    Ans: 行銷領域\n",
    "\n",
    "    我認為行銷是許多公司非常注重的領域，無論是透過線上線下，針對何種用戶、何種客群等各種問題，\n",
    "    可以透過「數據分析」結合「機器學習」的探勘自家公司或產品的行銷商機，亦或是將數據產出並呈現\n",
    "    出可預期之風險與支出，使公司或產品針對行銷可選擇的選項變多，同時也可以收束行銷策略與方向"
   ]
  },
  {
   "cell_type": "code",
   "execution_count": null,
   "metadata": {},
   "outputs": [],
   "source": [
    "   "
   ]
  }
 ],
 "metadata": {
  "kernelspec": {
   "display_name": "Python 3",
   "language": "python",
   "name": "python3"
  },
  "language_info": {
   "codemirror_mode": {
    "name": "ipython",
    "version": 3
   },
   "file_extension": ".py",
   "mimetype": "text/x-python",
   "name": "python",
   "nbconvert_exporter": "python",
   "pygments_lexer": "ipython3",
   "version": "3.6.6"
  }
 },
 "nbformat": 4,
 "nbformat_minor": 2
}