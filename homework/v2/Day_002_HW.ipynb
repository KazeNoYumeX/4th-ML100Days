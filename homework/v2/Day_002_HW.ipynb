{
 "cells": [
  {
   "cell_type": "markdown",
   "metadata": {},
   "source": [
    "# [作業]\n",
    "\n",
    "### 請說出資料科學與傳統科學（以假說為基礎的科學）的差別\n",
    "\n",
    "##### Ans:\n",
    "\n",
    "1. 問題形成與解決方法: \n",
    "   - 傳統科學： 以假說為基礎，提出一個理論性的假說並進行統計實驗以驗證或反駁。\n",
    "   - 資料科學： 強調從大量的數據中提取模式，以解決實際問題。\n",
    "2. 數據的角色:\n",
    "   - 傳統科學： 數據在實驗中收集，用於進行統計分析，樣本可能相對較小。\n",
    "   - 資料科學： 強調使用現有和大量的數據進行分析，著重預測、分類和優化。\n",
    "3. 問題的性質:\n",
    "   - 傳統科學： 偏理論性問題，通過統計方法理解自然法則。\n",
    "   - 資料科學： 偏實踐，解決實際問題，例如預測、分類、優化等。"
   ]
  }
 ],
 "metadata": {
  "anaconda-cloud": {},
  "kernelspec": {
   "display_name": "Python 3",
   "language": "python",
   "name": "python3"
  },
  "language_info": {
   "codemirror_mode": {
    "name": "ipython",
    "version": 3
   },
   "file_extension": ".py",
   "mimetype": "text/x-python",
   "name": "python",
   "nbconvert_exporter": "python",
   "pygments_lexer": "ipython3",
   "version": "3.7.6"
  }
 },
 "nbformat": 4,
 "nbformat_minor": 4
}
