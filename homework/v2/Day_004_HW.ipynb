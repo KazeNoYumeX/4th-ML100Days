{
 "cells": [
  {
   "cell_type": "markdown",
   "metadata": {},
   "source": [
    "# EDA：欄位的資料類型介紹及處理 - 作業程式碼"
   ]
  },
  {
   "cell_type": "markdown",
   "metadata": {},
   "source": [
    "本次作業需要完成兩個部分：\n",
    "- Part1. 請按照下方程式碼提示，建立出 Series 與 DataFrame\n",
    "- Part2. 請上「政府資料開放平臺」，找到感興趣的資料集（限定檔案格式要 CSV 檔或是 Excel 檔），並匯入至 Python，進一步使用 .loc、.iloc 挑選出特定的資料\n",
    "\n",
    "政府資料開放平臺：https://data.gov.tw/"
   ]
  },
  {
   "cell_type": "code",
   "execution_count": 1,
   "metadata": {
    "ExecuteTime": {
     "end_time": "2024-02-16T05:41:54.297617Z",
     "start_time": "2024-02-16T05:41:54.283182800Z"
    }
   },
   "outputs": [],
   "source": [
    "import pandas as pd"
   ]
  },
  {
   "cell_type": "markdown",
   "metadata": {},
   "source": [
    "## Part1. 請按照下方程式碼提示，建立出 Series 與 DataFrame"
   ]
  },
  {
   "cell_type": "code",
   "execution_count": 2,
   "metadata": {
    "ExecuteTime": {
     "end_time": "2024-02-16T05:41:56.867463100Z",
     "start_time": "2024-02-16T05:41:56.850201700Z"
    }
   },
   "outputs": [
    {
     "data": {
      "text/plain": "0    53\n1    12\n2    50\n3    39\n4    28\n5    59\ndtype: int64"
     },
     "execution_count": 2,
     "metadata": {},
     "output_type": "execute_result"
    }
   ],
   "source": [
    "a_list = [53, 12, 50, 39, 28, 59]\n",
    "\n",
    "\"\"\" 請使用 a_list 建立 Series \"\"\"\n",
    "a_list_series = pd.Series(a_list)\n",
    "a_list_series"
   ]
  },
  {
   "cell_type": "code",
   "execution_count": 3,
   "metadata": {
    "ExecuteTime": {
     "end_time": "2024-02-16T05:41:59.330604100Z",
     "start_time": "2024-02-16T05:41:59.311674900Z"
    }
   },
   "outputs": [
    {
     "data": {
      "text/plain": "      Column_A  Column_B  Column_C\nAndy        14        23        36\nTom         41        51        64\nAmy         77        83        93",
      "text/html": "<div>\n<style scoped>\n    .dataframe tbody tr th:only-of-type {\n        vertical-align: middle;\n    }\n\n    .dataframe tbody tr th {\n        vertical-align: top;\n    }\n\n    .dataframe thead th {\n        text-align: right;\n    }\n</style>\n<table border=\"1\" class=\"dataframe\">\n  <thead>\n    <tr style=\"text-align: right;\">\n      <th></th>\n      <th>Column_A</th>\n      <th>Column_B</th>\n      <th>Column_C</th>\n    </tr>\n  </thead>\n  <tbody>\n    <tr>\n      <th>Andy</th>\n      <td>14</td>\n      <td>23</td>\n      <td>36</td>\n    </tr>\n    <tr>\n      <th>Tom</th>\n      <td>41</td>\n      <td>51</td>\n      <td>64</td>\n    </tr>\n    <tr>\n      <th>Amy</th>\n      <td>77</td>\n      <td>83</td>\n      <td>93</td>\n    </tr>\n  </tbody>\n</table>\n</div>"
     },
     "execution_count": 3,
     "metadata": {},
     "output_type": "execute_result"
    }
   ],
   "source": [
    "a_2D_list = [[14, 23, 36],\n",
    "             [41, 51, 64],\n",
    "             [77, 83, 93]]\n",
    "column_name_list = [\"Column_A\", \"Column_B\", \"Column_C\"]\n",
    "index_list = [\"Andy\", \"Tom\", \"Amy\"]\n",
    "\n",
    "\"\"\" 請使用 a_2D_list 建立 DataFrame，並分別使用 index_list、column_name_list 定義 Index 與 Column Name\"\"\"\n",
    "a_2D_list_df = pd.DataFrame(a_2D_list, columns=column_name_list, index=index_list)\n",
    "a_2D_list_df"
   ]
  },
  {
   "cell_type": "markdown",
   "metadata": {},
   "source": [
    "## Part2. 請上「政府資料開放平臺」，找到感興趣的資料集（限定檔案格式要 CSV 檔或是 Excel 檔），並匯入至 Python，進一步使用 .loc、.iloc 挑選出特定的資料"
   ]
  },
  {
   "cell_type": "code",
   "execution_count": 4,
   "metadata": {
    "ExecuteTime": {
     "end_time": "2024-02-16T05:42:04.449995900Z",
     "start_time": "2024-02-16T05:42:02.607605400Z"
    }
   },
   "outputs": [
    {
     "data": {
      "text/plain": "   股票代號      股票名稱     收盤價    月平均價\n0  0050    元大台灣50  141.30  137.81\n1  0051   元大中型100   75.55   74.56\n2  0052      富邦科技  142.00  137.88\n3  0053      元大電子   77.00   74.94\n4  0055  元大MSCI金融   23.54   23.56",
      "text/html": "<div>\n<style scoped>\n    .dataframe tbody tr th:only-of-type {\n        vertical-align: middle;\n    }\n\n    .dataframe tbody tr th {\n        vertical-align: top;\n    }\n\n    .dataframe thead th {\n        text-align: right;\n    }\n</style>\n<table border=\"1\" class=\"dataframe\">\n  <thead>\n    <tr style=\"text-align: right;\">\n      <th></th>\n      <th>股票代號</th>\n      <th>股票名稱</th>\n      <th>收盤價</th>\n      <th>月平均價</th>\n    </tr>\n  </thead>\n  <tbody>\n    <tr>\n      <th>0</th>\n      <td>0050</td>\n      <td>元大台灣50</td>\n      <td>141.30</td>\n      <td>137.81</td>\n    </tr>\n    <tr>\n      <th>1</th>\n      <td>0051</td>\n      <td>元大中型100</td>\n      <td>75.55</td>\n      <td>74.56</td>\n    </tr>\n    <tr>\n      <th>2</th>\n      <td>0052</td>\n      <td>富邦科技</td>\n      <td>142.00</td>\n      <td>137.88</td>\n    </tr>\n    <tr>\n      <th>3</th>\n      <td>0053</td>\n      <td>元大電子</td>\n      <td>77.00</td>\n      <td>74.94</td>\n    </tr>\n    <tr>\n      <th>4</th>\n      <td>0055</td>\n      <td>元大MSCI金融</td>\n      <td>23.54</td>\n      <td>23.56</td>\n    </tr>\n  </tbody>\n</table>\n</div>"
     },
     "execution_count": 4,
     "metadata": {},
     "output_type": "execute_result"
    }
   ],
   "source": [
    "\"\"\" 請匯入 CSV 檔案或是 Excel 檔案 \"\"\"\n",
    "url = \"https://www.twse.com.tw/exchangeReport/STOCK_DAY_AVG_ALL?response=open_data\"\n",
    "\n",
    "data = pd.read_csv(url)\n",
    "head =  data.head() if data is not None else data\n",
    "head"
   ]
  },
  {
   "cell_type": "code",
   "execution_count": 5,
   "metadata": {
    "ExecuteTime": {
     "end_time": "2024-02-16T05:42:08.721140900Z",
     "start_time": "2024-02-16T05:42:08.694688100Z"
    }
   },
   "outputs": [
    {
     "data": {
      "text/plain": "       股票代號   股票名稱     收盤價    月平均價    價差\n23192  2059     川湖  1180.0  1088.0  92.0\n23610  3661  世芯-KY  4185.0  4133.0  52.0\n23878  6805    富世達   722.0   677.4  44.6",
      "text/html": "<div>\n<style scoped>\n    .dataframe tbody tr th:only-of-type {\n        vertical-align: middle;\n    }\n\n    .dataframe tbody tr th {\n        vertical-align: top;\n    }\n\n    .dataframe thead th {\n        text-align: right;\n    }\n</style>\n<table border=\"1\" class=\"dataframe\">\n  <thead>\n    <tr style=\"text-align: right;\">\n      <th></th>\n      <th>股票代號</th>\n      <th>股票名稱</th>\n      <th>收盤價</th>\n      <th>月平均價</th>\n      <th>價差</th>\n    </tr>\n  </thead>\n  <tbody>\n    <tr>\n      <th>23192</th>\n      <td>2059</td>\n      <td>川湖</td>\n      <td>1180.0</td>\n      <td>1088.0</td>\n      <td>92.0</td>\n    </tr>\n    <tr>\n      <th>23610</th>\n      <td>3661</td>\n      <td>世芯-KY</td>\n      <td>4185.0</td>\n      <td>4133.0</td>\n      <td>52.0</td>\n    </tr>\n    <tr>\n      <th>23878</th>\n      <td>6805</td>\n      <td>富世達</td>\n      <td>722.0</td>\n      <td>677.4</td>\n      <td>44.6</td>\n    </tr>\n  </tbody>\n</table>\n</div>"
     },
     "execution_count": 5,
     "metadata": {},
     "output_type": "execute_result"
    }
   ],
   "source": [
    "\"\"\" 請使用 .loc 挑選出三組感興趣的資料，並詳細說明對哪三組資料感興趣\"\"\"\n",
    "# 價差最高的三組資料\n",
    "data['價差'] = data['收盤價'] - data['月平均價']\n",
    "data.loc[data['收盤價'] > data['月平均價']].sort_values(by='價差', ascending=False).head(3)"
   ]
  },
  {
   "cell_type": "code",
   "execution_count": 6,
   "metadata": {
    "ExecuteTime": {
     "end_time": "2024-02-16T05:42:11.636383300Z",
     "start_time": "2024-02-16T05:42:11.608912800Z"
    }
   },
   "outputs": [
    {
     "data": {
      "text/plain": "       股票代號   股票名稱     收盤價    月平均價    價差\n23610  3661  世芯-KY  4185.0  4133.0  52.0\n23495  3008    大立光  2390.0  2390.0   0.0\n23850  6669     緯穎  2285.0  2275.0  10.0",
      "text/html": "<div>\n<style scoped>\n    .dataframe tbody tr th:only-of-type {\n        vertical-align: middle;\n    }\n\n    .dataframe tbody tr th {\n        vertical-align: top;\n    }\n\n    .dataframe thead th {\n        text-align: right;\n    }\n</style>\n<table border=\"1\" class=\"dataframe\">\n  <thead>\n    <tr style=\"text-align: right;\">\n      <th></th>\n      <th>股票代號</th>\n      <th>股票名稱</th>\n      <th>收盤價</th>\n      <th>月平均價</th>\n      <th>價差</th>\n    </tr>\n  </thead>\n  <tbody>\n    <tr>\n      <th>23610</th>\n      <td>3661</td>\n      <td>世芯-KY</td>\n      <td>4185.0</td>\n      <td>4133.0</td>\n      <td>52.0</td>\n    </tr>\n    <tr>\n      <th>23495</th>\n      <td>3008</td>\n      <td>大立光</td>\n      <td>2390.0</td>\n      <td>2390.0</td>\n      <td>0.0</td>\n    </tr>\n    <tr>\n      <th>23850</th>\n      <td>6669</td>\n      <td>緯穎</td>\n      <td>2285.0</td>\n      <td>2275.0</td>\n      <td>10.0</td>\n    </tr>\n  </tbody>\n</table>\n</div>"
     },
     "execution_count": 6,
     "metadata": {},
     "output_type": "execute_result"
    }
   ],
   "source": [
    "\"\"\" 請使用 .iloc 挑選出三組感興趣的資料，並詳細說明對哪三組資料感興趣\"\"\"\n",
    "# 月平均價最高的三組資料\n",
    "data.sort_values(by='月平均價', ascending=False).iloc[0:3]"
   ]
  }
 ],
 "metadata": {
  "kernelspec": {
   "display_name": "Python 3.8.9 64-bit",
   "language": "python",
   "name": "python3"
  },
  "language_info": {
   "codemirror_mode": {
    "name": "ipython",
    "version": 3
   },
   "file_extension": ".py",
   "mimetype": "text/x-python",
   "name": "python",
   "nbconvert_exporter": "python",
   "pygments_lexer": "ipython3",
   "version": "3.8.9"
  },
  "orig_nbformat": 4,
  "vscode": {
   "interpreter": {
    "hash": "158ae04e2f2f0956d11d7c2a375b41032251c36f0a4035209b3d278a3645b1ef"
   }
  }
 },
 "nbformat": 4,
 "nbformat_minor": 2
}
