{
 "cells": [
  {
   "cell_type": "markdown",
   "metadata": {},
   "source": [
    "## [作業目標]\n",
    "了解機器學習適合應用的領域與範疇。"
   ]
  },
  {
   "cell_type": "markdown",
   "metadata": {},
   "source": [
    "## [作業重點]\n",
    "透過瞭解機器學習的運作方式，找出非常適用機器學習應用的領域及其原因"
   ]
  },
  {
   "cell_type": "markdown",
   "source": [
    "## 作業\n",
    "\n",
    "### 請找出一個你認為機器學習可以發光發熱的領域並闡述原因?\n",
    "\n",
    "##### Ans:\n",
    "\n",
    "- 行銷領域: 我認為行銷是許多公司非常注重的領域，無論是透過線上或線下，不同的用戶和客群，都會遇到各種挑戰，\n",
    "  透過結合「數據分析」和「機器學習」公司可以探索自家產品或服務的行銷商機，\n",
    "  除此之外，生成的數據可以用來預測潛在的風險和支出，為公司的行銷策略提供更多選擇，\n",
    "  這不僅擴大了選擇範圍，也有助於收束行銷策略的方向。"
   ],
   "metadata": {
    "collapsed": false
   }
  }
 ],
 "metadata": {
  "kernelspec": {
   "display_name": "Python 3",
   "language": "python",
   "name": "python3"
  },
  "language_info": {
   "codemirror_mode": {
    "name": "ipython",
    "version": 3
   },
   "file_extension": ".py",
   "mimetype": "text/x-python",
   "name": "python",
   "nbconvert_exporter": "python",
   "pygments_lexer": "ipython3",
   "version": "3.6.6"
  }
 },
 "nbformat": 4,
 "nbformat_minor": 2
}
