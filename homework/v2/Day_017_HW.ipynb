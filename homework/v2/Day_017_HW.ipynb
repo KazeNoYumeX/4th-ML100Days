{
 "cells": [
  {
   "cell_type": "markdown",
   "metadata": {},
   "source": [
    "# [作業]\n",
    "\n",
    "## [作業1] \n",
    "\n",
    "### 請查詢線性迴歸模型在統計上對於模型的四個假設？\n",
    "- 可以參考 [Wikipedia: Regression analysis](https://en.wikipedia.org/wiki/Regression_analysis#Underlyᵢng_assumptions)\n",
    "\n",
    "##### Ans:\n",
    "\n",
    "1. `線性性與可加性`：假設因變數與自變數之間的關係是線性的，且自變數的影響是可加的。\n",
    "    換句話說，`自變數X`對`因變數Y`的影響不會因為其他變數的變化而變化。  \n",
    "2. `誤差項（殘差）之間的獨立性`：假設誤差項之間是獨立的，也就是說，一個誤差項不能影響到另一個誤差項。  \n",
    "3. `自變數的變異數不為零`：假設每一個自變數的變異數都不為零。\n",
    "    如果自變數的變異數為零，那該變數對因變數就沒有任何解釋力。  \n",
    "4. `誤差項的常態性與同質變異性`：假設誤差項呈現常態分佈，並且不同觀測值的誤差項的變異數相同（即同質變異性）。\n",
    "\n",
    "## [作業2] \n",
    "\n",
    "### 請查詢如何用最小平方法解線性迴歸問題（也就是求線性迴歸問題的公式解）？請列出詳細數學推導過程。\n",
    "\n",
    "##### Ans:\n",
    "\n",
    "假設有一組數據，目標是找到一條直線，使得所有點到這條直線的垂直距離的平方和最小。\n",
    "這條直線的方程式為 `y = mx + b`，其中 `m` 是斜率，`b` 是截距。\n",
    "\n",
    "推導過程：\n",
    "\n",
    "1. 定義誤差函數（Error Function）：這是一個關於 `m` 和 `b` 的函數，表示所有點到直線的垂直距離的平方和。\n",
    "    目標是找到 `m` 和 `b` 的值。\n",
    "    - `E(m, b) = Σ(yᵢ - (mxᵢ + b))²`\n",
    "    - 其中 `xᵢ` 和 `yᵢ` 是數據點，Σ表示對所有數據點求和。\n",
    "\n",
    "2. 對 `m` 和 `b` 分別求偏導數，並設定為零，得到兩個方程式。\n",
    "    - `∂E/∂m = 0`\n",
    "    - `∂E/∂b = 0`\n",
    "\n",
    "3. 解這兩個方程式，得到 `m` 和 `b` 的值。\n",
    "    - `m = (NΣxᵢyᵢ - ΣxᵢΣyᵢ) / (NΣxᵢ² - (Σxᵢ)²)`\n",
    "    - `b = (Σyᵢ - mΣxᵢ) / N`\n",
    "    - 其中 `N` 是點的數量。\n",
    "\n",
    "4. 可以找到最佳的 `m` 和 `b` 的值，使得直線 `y = mx + b` 最好地擬合給定的數據點。"
   ]
  }
 ],
 "metadata": {
  "anaconda-cloud": {},
  "kernelspec": {
   "display_name": "Python 3",
   "language": "python",
   "name": "python3"
  },
  "language_info": {
   "codemirror_mode": {
    "name": "ipython",
    "version": 3
   },
   "file_extension": ".py",
   "mimetype": "text/x-python",
   "name": "python",
   "nbconvert_exporter": "python",
   "pygments_lexer": "ipython3",
   "version": "3.7.6"
  }
 },
 "nbformat": 4,
 "nbformat_minor": 4
}
