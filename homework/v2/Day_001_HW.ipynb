{
 "cells": [
  {
   "cell_type": "markdown",
   "metadata": {},
   "source": [
    "# [作業]\n",
    "\n",
    "### 請說出資料科學對於發展人工智慧模型的三個重要性\n",
    "\n",
    "##### Ans:\n",
    "\n",
    "1. 資料準備與清理: 資料科學家的工作是確保使用的資料是完整、可靠的，這包括處理資料中的缺失值、異常值等，\n",
    "   確保建立的模型是建立在穩固的基礎上。\n",
    "2. 特徵工程: 資料科學家需要挑選和創建能夠更好地解釋問題的特徵。\n",
    "   這有助於模型更好地理解資料、捕捉關鍵的模式，從而提高模型的預測能力。\n",
    "3. 模型評估與優化: 資料科學家使用各種評估指標來量化模型的性能。\n",
    "   根據評估的結果，我們可以調整模型的超參數，改進特徵工程，以不斷地提升模型的效能。"
   ]
  }
 ],
 "metadata": {
  "anaconda-cloud": {},
  "kernelspec": {
   "display_name": "Python 3",
   "language": "python",
   "name": "python3"
  },
  "language_info": {
   "codemirror_mode": {
    "name": "ipython",
    "version": 3
   },
   "file_extension": ".py",
   "mimetype": "text/x-python",
   "name": "python",
   "nbconvert_exporter": "python",
   "pygments_lexer": "ipython3",
   "version": "3.7.6"
  }
 },
 "nbformat": 4,
 "nbformat_minor": 4
}
