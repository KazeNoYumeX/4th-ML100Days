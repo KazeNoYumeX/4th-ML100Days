{
 "cells": [
  {
   "cell_type": "markdown",
   "metadata": {
    "collapsed": true
   },
   "source": [
    "# 作業 : (Kaggle)鐵達尼生存預測"
   ]
  },
  {
   "cell_type": "markdown",
   "metadata": {},
   "source": [
    "# [作業目標]\n",
    "- 試著模仿範例寫法, 在鐵達尼生存預測中, 觀察計數編碼與特徵雜湊的效果"
   ]
  },
  {
   "cell_type": "markdown",
   "metadata": {},
   "source": [
    "# [作業重點]\n",
    "- 仿造範例, 完成自己挑選特徵的群聚編碼 (In[2], Out[2])\n",
    "- 觀察群聚編碼, 搭配羅吉斯迴歸, 看看有什麼影響 (In[5], Out[5], In[6], Out[6]) "
   ]
  },
  {
   "cell_type": "markdown",
   "metadata": {},
   "source": [
    "# 作業1\n",
    "* 試著使用鐵達尼號的例子，創立兩種以上的群聚編碼特徵( mean、median、mode、max、min、count 均可 )"
   ]
  },
  {
   "cell_type": "code",
   "execution_count": 1,
   "metadata": {
    "ExecuteTime": {
     "end_time": "2024-03-15T16:00:32.994727Z",
     "start_time": "2024-03-15T16:00:32.087847Z"
    }
   },
   "outputs": [
    {
     "data": {
      "text/plain": "   Pclass                                               Name     Sex   Age  \\\n0       3                            Braund, Mr. Owen Harris    male  22.0   \n1       1  Cumings, Mrs. John Bradley (Florence Briggs Th...  female  38.0   \n2       3                             Heikkinen, Miss. Laina  female  26.0   \n3       1       Futrelle, Mrs. Jacques Heath (Lily May Peel)  female  35.0   \n4       3                           Allen, Mr. William Henry    male  35.0   \n\n   SibSp  Parch            Ticket     Fare Cabin Embarked  \n0      1      0         A/5 21171   7.2500   NaN        S  \n1      1      0          PC 17599  71.2833   C85        C  \n2      0      0  STON/O2. 3101282   7.9250   NaN        S  \n3      1      0            113803  53.1000  C123        S  \n4      0      0            373450   8.0500   NaN        S  ",
      "text/html": "<div>\n<style scoped>\n    .dataframe tbody tr th:only-of-type {\n        vertical-align: middle;\n    }\n\n    .dataframe tbody tr th {\n        vertical-align: top;\n    }\n\n    .dataframe thead th {\n        text-align: right;\n    }\n</style>\n<table border=\"1\" class=\"dataframe\">\n  <thead>\n    <tr style=\"text-align: right;\">\n      <th></th>\n      <th>Pclass</th>\n      <th>Name</th>\n      <th>Sex</th>\n      <th>Age</th>\n      <th>SibSp</th>\n      <th>Parch</th>\n      <th>Ticket</th>\n      <th>Fare</th>\n      <th>Cabin</th>\n      <th>Embarked</th>\n    </tr>\n  </thead>\n  <tbody>\n    <tr>\n      <th>0</th>\n      <td>3</td>\n      <td>Braund, Mr. Owen Harris</td>\n      <td>male</td>\n      <td>22.0</td>\n      <td>1</td>\n      <td>0</td>\n      <td>A/5 21171</td>\n      <td>7.2500</td>\n      <td>NaN</td>\n      <td>S</td>\n    </tr>\n    <tr>\n      <th>1</th>\n      <td>1</td>\n      <td>Cumings, Mrs. John Bradley (Florence Briggs Th...</td>\n      <td>female</td>\n      <td>38.0</td>\n      <td>1</td>\n      <td>0</td>\n      <td>PC 17599</td>\n      <td>71.2833</td>\n      <td>C85</td>\n      <td>C</td>\n    </tr>\n    <tr>\n      <th>2</th>\n      <td>3</td>\n      <td>Heikkinen, Miss. Laina</td>\n      <td>female</td>\n      <td>26.0</td>\n      <td>0</td>\n      <td>0</td>\n      <td>STON/O2. 3101282</td>\n      <td>7.9250</td>\n      <td>NaN</td>\n      <td>S</td>\n    </tr>\n    <tr>\n      <th>3</th>\n      <td>1</td>\n      <td>Futrelle, Mrs. Jacques Heath (Lily May Peel)</td>\n      <td>female</td>\n      <td>35.0</td>\n      <td>1</td>\n      <td>0</td>\n      <td>113803</td>\n      <td>53.1000</td>\n      <td>C123</td>\n      <td>S</td>\n    </tr>\n    <tr>\n      <th>4</th>\n      <td>3</td>\n      <td>Allen, Mr. William Henry</td>\n      <td>male</td>\n      <td>35.0</td>\n      <td>0</td>\n      <td>0</td>\n      <td>373450</td>\n      <td>8.0500</td>\n      <td>NaN</td>\n      <td>S</td>\n    </tr>\n  </tbody>\n</table>\n</div>"
     },
     "execution_count": 1,
     "metadata": {},
     "output_type": "execute_result"
    }
   ],
   "source": [
    "import warnings\n",
    "\n",
    "import pandas as pd\n",
    "from sklearn.linear_model import LogisticRegression\n",
    "from sklearn.model_selection import cross_val_score\n",
    "from sklearn.preprocessing import MinMaxScaler\n",
    "\n",
    "warnings.filterwarnings('ignore')\n",
    "\n",
    "data_path = 'data/'\n",
    "df = pd.read_csv(data_path + 'titanic_train.csv')\n",
    "\n",
    "train_Y = df['Survived']\n",
    "df = df.drop(['PassengerId', 'Survived'], axis=1)\n",
    "df.head()"
   ]
  },
  {
   "cell_type": "code",
   "execution_count": 2,
   "metadata": {
    "ExecuteTime": {
     "end_time": "2024-03-15T16:00:33.042949Z",
     "start_time": "2024-03-15T16:00:32.995732Z"
    }
   },
   "outputs": [
    {
     "data": {
      "text/plain": "   Ticket   Age_Mean   Age_Mode  Age_Median  Age_Max    Age_Min\n0  110152  26.333333  16.000000   30.000000     33.0  16.000000\n1  110413  36.333333  18.000000   39.000000     52.0  18.000000\n2  110465  38.349559  29.699118   38.349559     47.0  29.699118\n3  110564  28.000000  28.000000   28.000000     28.0  28.000000\n4  110813  60.000000  60.000000   60.000000     60.0  60.000000",
      "text/html": "<div>\n<style scoped>\n    .dataframe tbody tr th:only-of-type {\n        vertical-align: middle;\n    }\n\n    .dataframe tbody tr th {\n        vertical-align: top;\n    }\n\n    .dataframe thead th {\n        text-align: right;\n    }\n</style>\n<table border=\"1\" class=\"dataframe\">\n  <thead>\n    <tr style=\"text-align: right;\">\n      <th></th>\n      <th>Ticket</th>\n      <th>Age_Mean</th>\n      <th>Age_Mode</th>\n      <th>Age_Median</th>\n      <th>Age_Max</th>\n      <th>Age_Min</th>\n    </tr>\n  </thead>\n  <tbody>\n    <tr>\n      <th>0</th>\n      <td>110152</td>\n      <td>26.333333</td>\n      <td>16.000000</td>\n      <td>30.000000</td>\n      <td>33.0</td>\n      <td>16.000000</td>\n    </tr>\n    <tr>\n      <th>1</th>\n      <td>110413</td>\n      <td>36.333333</td>\n      <td>18.000000</td>\n      <td>39.000000</td>\n      <td>52.0</td>\n      <td>18.000000</td>\n    </tr>\n    <tr>\n      <th>2</th>\n      <td>110465</td>\n      <td>38.349559</td>\n      <td>29.699118</td>\n      <td>38.349559</td>\n      <td>47.0</td>\n      <td>29.699118</td>\n    </tr>\n    <tr>\n      <th>3</th>\n      <td>110564</td>\n      <td>28.000000</td>\n      <td>28.000000</td>\n      <td>28.000000</td>\n      <td>28.0</td>\n      <td>28.000000</td>\n    </tr>\n    <tr>\n      <th>4</th>\n      <td>110813</td>\n      <td>60.000000</td>\n      <td>60.000000</td>\n      <td>60.000000</td>\n      <td>60.0</td>\n      <td>60.000000</td>\n    </tr>\n  </tbody>\n</table>\n</div>"
     },
     "execution_count": 2,
     "metadata": {},
     "output_type": "execute_result"
    }
   ],
   "source": [
    "# 取一個類別型欄位, 與一個數值型欄位, 做群聚編碼\n",
    "df['Ticket'] = df['Ticket'].fillna('None')\n",
    "df['Age'] = df['Age'].fillna(df['Age'].mean())\n",
    "\n",
    "# Rename the 'Age' column in each DataFrame\n",
    "mean_df = df.groupby(['Ticket'])['Age'].mean().reset_index()\n",
    "mean_df = mean_df.rename(columns={'Age': 'Age_Mean'})\n",
    "\n",
    "mode_df = df.groupby(['Ticket'])['Age'].apply(lambda x: x.mode()[0]).reset_index()\n",
    "mode_df = mode_df.rename(columns={'Age': 'Age_Mode'})\n",
    "\n",
    "median_df = df.groupby(['Ticket'])['Age'].median().reset_index()\n",
    "median_df = median_df.rename(columns={'Age': 'Age_Median'})\n",
    "\n",
    "max_df = df.groupby(['Ticket'])['Age'].max().reset_index()\n",
    "max_df = max_df.rename(columns={'Age': 'Age_Max'})\n",
    "\n",
    "min_df = df.groupby(['Ticket'])['Age'].min().reset_index()\n",
    "min_df = min_df.rename(columns={'Age': 'Age_Min'})\n",
    "\n",
    "# Perform the merge operations\n",
    "temp = pd.merge(mean_df, mode_df, how='left', on=['Ticket'])\n",
    "temp = pd.merge(temp, median_df, how='left', on=['Ticket'])\n",
    "temp = pd.merge(temp, max_df, how='left', on=['Ticket'])\n",
    "temp = pd.merge(temp, min_df, how='left', on=['Ticket'])\n",
    "temp.columns = ['Ticket', 'Age_Mean', 'Age_Mode', 'Age_Median', 'Age_Max', 'Age_Min']\n",
    "temp.head()"
   ]
  },
  {
   "cell_type": "code",
   "outputs": [
    {
     "name": "stdout",
     "output_type": "stream",
     "text": [
      "10 Numeric Features : ['Pclass', 'Age', 'SibSp', 'Parch', 'Fare', 'Age_Mean', 'Age_Mode', 'Age_Median', 'Age_Max', 'Age_Min']\n"
     ]
    },
    {
     "data": {
      "text/plain": "   Pclass   Age  SibSp  Parch     Fare  Age_Mean  Age_Mode  Age_Median  \\\n0       3  22.0      1      0   7.2500      22.0      22.0        22.0   \n1       1  38.0      1      0  71.2833      38.0      38.0        38.0   \n2       3  26.0      0      0   7.9250      26.0      26.0        26.0   \n3       1  35.0      1      0  53.1000      36.0      35.0        36.0   \n4       3  35.0      0      0   8.0500      35.0      35.0        35.0   \n\n   Age_Max  Age_Min  \n0     22.0     22.0  \n1     38.0     38.0  \n2     26.0     26.0  \n3     37.0     35.0  \n4     35.0     35.0  ",
      "text/html": "<div>\n<style scoped>\n    .dataframe tbody tr th:only-of-type {\n        vertical-align: middle;\n    }\n\n    .dataframe tbody tr th {\n        vertical-align: top;\n    }\n\n    .dataframe thead th {\n        text-align: right;\n    }\n</style>\n<table border=\"1\" class=\"dataframe\">\n  <thead>\n    <tr style=\"text-align: right;\">\n      <th></th>\n      <th>Pclass</th>\n      <th>Age</th>\n      <th>SibSp</th>\n      <th>Parch</th>\n      <th>Fare</th>\n      <th>Age_Mean</th>\n      <th>Age_Mode</th>\n      <th>Age_Median</th>\n      <th>Age_Max</th>\n      <th>Age_Min</th>\n    </tr>\n  </thead>\n  <tbody>\n    <tr>\n      <th>0</th>\n      <td>3</td>\n      <td>22.0</td>\n      <td>1</td>\n      <td>0</td>\n      <td>7.2500</td>\n      <td>22.0</td>\n      <td>22.0</td>\n      <td>22.0</td>\n      <td>22.0</td>\n      <td>22.0</td>\n    </tr>\n    <tr>\n      <th>1</th>\n      <td>1</td>\n      <td>38.0</td>\n      <td>1</td>\n      <td>0</td>\n      <td>71.2833</td>\n      <td>38.0</td>\n      <td>38.0</td>\n      <td>38.0</td>\n      <td>38.0</td>\n      <td>38.0</td>\n    </tr>\n    <tr>\n      <th>2</th>\n      <td>3</td>\n      <td>26.0</td>\n      <td>0</td>\n      <td>0</td>\n      <td>7.9250</td>\n      <td>26.0</td>\n      <td>26.0</td>\n      <td>26.0</td>\n      <td>26.0</td>\n      <td>26.0</td>\n    </tr>\n    <tr>\n      <th>3</th>\n      <td>1</td>\n      <td>35.0</td>\n      <td>1</td>\n      <td>0</td>\n      <td>53.1000</td>\n      <td>36.0</td>\n      <td>35.0</td>\n      <td>36.0</td>\n      <td>37.0</td>\n      <td>35.0</td>\n    </tr>\n    <tr>\n      <th>4</th>\n      <td>3</td>\n      <td>35.0</td>\n      <td>0</td>\n      <td>0</td>\n      <td>8.0500</td>\n      <td>35.0</td>\n      <td>35.0</td>\n      <td>35.0</td>\n      <td>35.0</td>\n      <td>35.0</td>\n    </tr>\n  </tbody>\n</table>\n</div>"
     },
     "execution_count": 3,
     "metadata": {},
     "output_type": "execute_result"
    }
   ],
   "source": [
    "df = pd.merge(df, temp, how='left', on=['Ticket'])\n",
    "df = df.drop(['Ticket'], axis=1)\n",
    "\n",
    "# 只取 int64, float64 兩種數值型欄位, 存於 num_features 中\n",
    "num_features = []\n",
    "for dtype, feature in zip(df.dtypes, df.columns):\n",
    "    if dtype == 'float64' or dtype == 'int64':\n",
    "        num_features.append(feature)\n",
    "print(f'{len(num_features)} Numeric Features : {num_features}\\n')\n",
    "\n",
    "# 削減文字型欄位, 只剩數值型欄位\n",
    "df = df[num_features]\n",
    "df = df.fillna(-1)\n",
    "MMEncoder = MinMaxScaler()\n",
    "df.head()"
   ],
   "metadata": {
    "collapsed": false,
    "ExecuteTime": {
     "end_time": "2024-03-15T16:00:33.058789Z",
     "start_time": "2024-03-15T16:00:33.042949Z"
    }
   },
   "execution_count": 3
  },
  {
   "cell_type": "markdown",
   "metadata": {},
   "source": [
    "# 作業2\n",
    "\n",
    "- 將上述的新特徵，合併原有的欄位做生存率預估，結果是否有改善?\n",
    "\n",
    "##### Ans:\n",
    "\n",
    "- 群聚編碼的正確率有提升"
   ]
  },
  {
   "cell_type": "code",
   "execution_count": 4,
   "metadata": {
    "collapsed": true,
    "ExecuteTime": {
     "end_time": "2024-03-15T16:00:33.078936Z",
     "start_time": "2024-03-15T16:00:33.059793Z"
    }
   },
   "outputs": [
    {
     "data": {
      "text/plain": "0.7004142866110099"
     },
     "execution_count": 4,
     "metadata": {},
     "output_type": "execute_result"
    }
   ],
   "source": [
    "# 原始特徵 + 羅吉斯迴歸\n",
    "df_minus = df.drop(['Age_Mean', 'Age_Mode', 'Age_Median', 'Age_Max', 'Age_Min'], axis=1)\n",
    "\n",
    "train_X = MMEncoder.fit_transform(df_minus)\n",
    "estimator = LogisticRegression()\n",
    "cross_val_score(estimator, train_X, train_Y, cv=5).mean()"
   ]
  },
  {
   "cell_type": "code",
   "execution_count": 5,
   "metadata": {
    "collapsed": true,
    "ExecuteTime": {
     "end_time": "2024-03-15T16:00:33.094850Z",
     "start_time": "2024-03-15T16:00:33.079941Z"
    }
   },
   "outputs": [
    {
     "data": {
      "text/plain": "0.702661477622246"
     },
     "execution_count": 5,
     "metadata": {},
     "output_type": "execute_result"
    }
   ],
   "source": [
    "# 新特徵 + 羅吉斯迴歸\n",
    "train_X = MMEncoder.fit_transform(df)\n",
    "estimator = LogisticRegression()\n",
    "cross_val_score(estimator, train_X, train_Y, cv=5).mean()"
   ]
  }
 ],
 "metadata": {
  "kernelspec": {
   "display_name": "Python 3",
   "language": "python",
   "name": "python3"
  },
  "language_info": {
   "codemirror_mode": {
    "name": "ipython",
    "version": 3
   },
   "file_extension": ".py",
   "mimetype": "text/x-python",
   "name": "python",
   "nbconvert_exporter": "python",
   "pygments_lexer": "ipython3",
   "version": "3.6.1"
  }
 },
 "nbformat": 4,
 "nbformat_minor": 2
}
