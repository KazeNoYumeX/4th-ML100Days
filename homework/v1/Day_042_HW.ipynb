{
 "cells": [
  {
   "cell_type": "markdown",
   "metadata": {},
   "source": [
    "## [作業重點]\n",
    "目前你應該已經要很清楚資料集中，資料的型態是什麼樣子囉！包含特徵 (features) 與標籤 (labels)。因此要記得未來不管什麼專案，必須要把資料清理成相同的格式，才能送進模型訓練。\n",
    "今天的作業開始踏入決策樹這個非常重要的模型，請務必確保你理解模型中每個超參數的意思，並試著調整看看，對最終預測結果的影響為何"
   ]
  },
  {
   "cell_type": "markdown",
   "metadata": {},
   "source": [
    "## [作業]\n",
    "\n",
    "### 作業1：試著調整 Decision Tree 中的參數，並觀察是否會改變結果？   \n"
   ]
  },
  {
   "cell_type": "code",
   "outputs": [
    {
     "name": "stdout",
     "output_type": "stream",
     "text": [
      "D1 Accuracy:  0.6842105263157895\n",
      "D1 Feature importance:  [0. 0. 1. 0.]\n",
      "D1 Mean squared error:  0.3157894736842105\n",
      "D10 Accuracy:  0.9736842105263158\n",
      "D10 Feature importance:  [0.         0.01796599 0.05992368 0.92211033]\n",
      "D10 Mean squared error:  0.02631578947368421\n"
     ]
    }
   ],
   "source": [
    "from sklearn.metrics import mean_squared_error\n",
    "from sklearn import datasets, metrics\n",
    "from sklearn.tree import DecisionTreeClassifier\n",
    "from sklearn.model_selection import train_test_split\n",
    "from sklearn.linear_model import LogisticRegression\n",
    "\n",
    "# 讀取鳶尾花資料集\n",
    "iris = datasets.load_iris()\n",
    "\n",
    "# 切分訓練集/測試集\n",
    "x_train, x_test, y_train, y_test = train_test_split(iris.data, iris.target, test_size=0.25, random_state=4)\n",
    "\n",
    "# 建立 D1 模型\n",
    "d1_clf = DecisionTreeClassifier(max_depth=1)\n",
    "\n",
    "# 訓練 D1 模型\n",
    "d1_clf.fit(x_train, y_train)\n",
    "\n",
    "# 預測 D1 測試集\n",
    "y_pred = d1_clf.predict(x_test)\n",
    "\n",
    "accuracy = metrics.accuracy_score(y_test, y_pred)\n",
    "\n",
    "print(\"D1 Accuracy: \", accuracy)\n",
    "print(\"D1 Feature importance: \", d1_clf.feature_importances_)\n",
    "print(\"D1 Mean squared error: \", mean_squared_error(y_test, y_pred))\n",
    "\n",
    "# 建立 D10 模型\n",
    "d10_clf = DecisionTreeClassifier(max_depth=10)\n",
    "\n",
    "# 訓練 D10 模型\n",
    "d10_clf.fit(x_train, y_train)\n",
    "\n",
    "# 預測 D10 測試集\n",
    "y_pred = d10_clf.predict(x_test)\n",
    "\n",
    "accuracy = metrics.accuracy_score(y_test, y_pred)\n",
    "print(\"D10 Accuracy: \", accuracy)\n",
    "print(\"D10 Feature importance: \", d10_clf.feature_importances_)\n",
    "print(\"D10 Mean squared error: \", mean_squared_error(y_test, y_pred))"
   ],
   "metadata": {
    "collapsed": false,
    "ExecuteTime": {
     "end_time": "2024-03-29T07:40:31.400542Z",
     "start_time": "2024-03-29T07:40:31.146362Z"
    }
   },
   "execution_count": 1
  },
  {
   "cell_type": "markdown",
   "source": [
    "### 作業2：改用其他資料集 (diabetes, wine)，並與迴歸模型的結果進行比較\n",
    "\n",
    "##### Ans\n",
    "\n",
    "- 在糖尿病資料集上，迴歸模型的預測優於決策樹回歸模型"
   ],
   "metadata": {
    "collapsed": false
   }
  },
  {
   "cell_type": "code",
   "execution_count": 2,
   "metadata": {
    "ExecuteTime": {
     "end_time": "2024-03-29T07:40:31.432232Z",
     "start_time": "2024-03-29T07:40:31.401549Z"
    }
   },
   "outputs": [
    {
     "name": "stdout",
     "output_type": "stream",
     "text": [
      "Mean squared error:  7782.612612612613\n",
      "Mean squared error (Logistic Regression):  5371.495495495496\n"
     ]
    }
   ],
   "source": [
    "from sklearn.tree import DecisionTreeRegressor\n",
    "\n",
    "# 讀取糖尿病資料集\n",
    "diabetes = datasets.load_diabetes()\n",
    "\n",
    "# 切分訓練集/測試集\n",
    "x_train, x_test, y_train, y_test = train_test_split(diabetes.data, diabetes.target, test_size=0.25, random_state=4)\n",
    "\n",
    "# 建立模型\n",
    "clf = DecisionTreeRegressor()\n",
    "\n",
    "# 訓練模型\n",
    "clf.fit(x_train, y_train)\n",
    "\n",
    "# 預測測試集\n",
    "y_pred = clf.predict(x_test)\n",
    "\n",
    "mse = metrics.mean_squared_error(y_test, y_pred)\n",
    "print(\"Mean squared error: \", mse)\n",
    "\n",
    "# 使用 Logistic Regression 模型進行比較\n",
    "lr = LogisticRegression()\n",
    "\n",
    "# 訓練模型\n",
    "lr.fit(x_train, y_train)\n",
    "\n",
    "# 預測測試集\n",
    "y_pred = lr.predict(x_test)\n",
    "\n",
    "mse = metrics.mean_squared_error(y_test, y_pred)\n",
    "print(\"Mean squared error (Logistic Regression): \", mse)"
   ]
  }
 ],
 "metadata": {
  "kernelspec": {
   "display_name": "Python 3 (ipykernel)",
   "language": "python",
   "name": "python3"
  },
  "language_info": {
   "codemirror_mode": {
    "name": "ipython",
    "version": 3
   },
   "file_extension": ".py",
   "mimetype": "text/x-python",
   "name": "python",
   "nbconvert_exporter": "python",
   "pygments_lexer": "ipython3",
   "version": "3.10.9"
  }
 },
 "nbformat": 4,
 "nbformat_minor": 4
}
