{
 "cells": [
  {
   "cell_type": "markdown",
   "source": [
    "## 練習時間\n",
    "#### 請寫一個函式用來計算 Mean Square Error\n",
    "$ MSE = \\frac{1}{n}\\sum_{i=1}^{n}{(Y_i - \\hat{Y}_i)^2} $\n",
    "\n",
    "### Hint: [如何取平方](https://googoodesign.gitbooks.io/-ezpython/unit-1.html)"
   ],
   "metadata": {
    "collapsed": false
   }
  },
  {
   "cell_type": "markdown",
   "metadata": {},
   "source": [
    "# [作業目標]\n",
    "- 仿造範例的MAE函數, 自己寫一個MSE函數(參考上面公式)"
   ]
  },
  {
   "cell_type": "markdown",
   "source": [
    "# [作業重點]\n",
    "- 注意程式的縮排\n",
    "- 是否能將數學公式, 轉換為 Python 的函式組合? (In[2], Out[2])"
   ],
   "metadata": {
    "collapsed": false
   }
  },
  {
   "cell_type": "code",
   "execution_count": 0,
   "outputs": [],
   "source": [
    "import matplotlib.pyplot as plt\n",
    "# 載入基礎套件與代稱\n",
    "import numpy as np"
   ],
   "metadata": {
    "collapsed": false
   }
  },
  {
   "cell_type": "code",
   "execution_count": 10,
   "outputs": [],
   "source": [
    "def mean_absolute_error(y, yp):\n",
    "    \"\"\"\n",
    "    計算 MAE\n",
    "    Args:\n",
    "        - y: 實際值\n",
    "        - yp: 預測值\n",
    "    Return:\n",
    "        - mae: MAE\n",
    "    \"\"\"\n",
    "    return sum(abs(y - yp)) / len(y)\n",
    "\n",
    "\n",
    "# 定義 mean_squared_error 這個函數, 計算並傳回 MSE\n",
    "def mean_squared_error(y, yp):\n",
    "    \"\"\"\n",
    "    請完成這個 Function 後往下執行\n",
    "    \"\"\"\n",
    "    return sum((y - yp) ** 2 / len(y))"
   ],
   "metadata": {
    "collapsed": false
   }
  },
  {
   "cell_type": "code",
   "execution_count": 11,
   "metadata": {},
   "outputs": [
    {
     "data": {
      "image/png": "[encoded data removed]",
      "text/plain": [
       "<Figure size 432x288 with 1 Axes>"
      ]
     },
     "metadata": {
      "needs_background": "light"
     },
     "output_type": "display_data"
    }
   ],
   "source": [
    "# 與範例相同, 不另外解說\n",
    "w = 3\n",
    "b = 0.5\n",
    "x_lin = np.linspace(0, 100, 101)\n",
    "y = (x_lin + np.random.randn(101) * 5) * w + b\n",
    "\n",
    "plt.plot(x_lin, y, 'b.', label='data points')\n",
    "plt.title(\"Assume we have data points\")\n",
    "plt.legend(loc=2)\n",
    "plt.show()"
   ]
  },
  {
   "cell_type": "code",
   "execution_count": 12,
   "metadata": {},
   "outputs": [
    {
     "data": {
      "image/png": "[encoded data removed]",
      "text/plain": [
       "<Figure size 432x288 with 1 Axes>"
      ]
     },
     "metadata": {
      "needs_background": "light"
     },
     "output_type": "display_data"
    }
   ],
   "source": [
    "# 與範例相同, 不另外解說\n",
    "y_hat = x_lin * w + b\n",
    "plt.plot(x_lin, y, 'b.', label='data')\n",
    "plt.plot(x_lin, y_hat, 'r-', label='prediction')\n",
    "plt.title(\"Assume we have data points (And the prediction)\")\n",
    "plt.legend(loc=2)\n",
    "plt.show()"
   ]
  },
  {
   "cell_type": "code",
   "execution_count": 13,
   "metadata": {},
   "outputs": [
    {
     "name": "stdout",
     "output_type": "stream",
     "text": [
      "The Mean squared error is 209.039\n",
      "The Mean absolute error is 11.398\n"
     ]
    }
   ],
   "source": [
    "# 執行 Function, 確認有沒有正常執行\n",
    "MSE = mean_squared_error(y, y_hat)\n",
    "MAE = mean_absolute_error(y, y_hat)\n",
    "print(\"The Mean squared error is %.3f\" % MSE)\n",
    "print(\"The Mean absolute error is %.3f\" % MAE)"
   ]
  },
  {
   "cell_type": "markdown",
   "metadata": {},
   "source": [
    "# [作業2]\n",
    "\n",
    "### 請上 Kaggle, 在 Competitions 或 Dataset 中找一組競賽或資料並寫下：\n",
    "\n",
    "#### 1. 你選的這組資料為何重要\n",
    "\n",
    "##### Ans:\n",
    "\n",
    "- 選擇的資料集：Dataset中的COVID-19 Open Research Dataset Challenge (CORD-19)，\n",
    "- 在當前全球COVID-19大流行的情況下，這個資料集提供了一個重要的機會，讓全球的人工智慧專家可以共同開發文本與數據挖掘工具，以深入了解並應對這一全球性挑戰。\n",
    "\n",
    "#### 2. 資料從何而來 (tips: 譬如提供者是誰、以什麼方式蒐集)\n",
    "\n",
    "##### Ans:\n",
    "\n",
    "- 資料的提供者為美國白宮與主要研究小組的聯盟準備的COVID-19開放研究數據集（CORD-19）。\n",
    "- CORD-19的資源超過157,000篇學術文章，其中包括超過75,000篇全文，涉及COVID-19，SARS-CoV-2和相關冠狀病毒。\n",
    "\n",
    "#### 3. 蒐集而來的資料型態為何\n",
    "\n",
    "##### Ans:\n",
    "\n",
    "- 資料將合併自CZI，PMC，BioRxiv / MedRxiv來源的論文原數據（總記錄29500筆、CZI 1236筆、PMC 27337筆、bioRxiv 566筆、medRxiv\n",
    "  361筆），並被整理成結構化格式，符合資料集中的json_schema檔案。\n",
    "\n",
    "#### 4. 這組資料想解決的問題如何評估\n",
    "\n",
    "##### Ans:\n",
    "\n",
    "- 解決問題：\n",
    "  以CORD-19的第二輪任務「創建匯總表，以解決與COVID-19相關的相關因素」為例，\n",
    "  當中具體需要知道有關文獻的報導：案例隔離/隔離個人的有效性（例如隔離）、減少社區接觸的有效性、工作場所疏散的有效性、傳播的季節性、溫度和濕度如何影響2019-nCoV的傳播等。\n",
    "\n",
    "- 評估標準:\n",
    "    1. 完整性（5分）:\n",
    "        1. 參與者完成任務了嗎？\n",
    "        2. 是否存在缺失值？\n",
    "        3. 提早提交獎勵積分！\n",
    "    2. 準確性（5分）:\n",
    "        1. 結果相關嗎？\n",
    "        2. 是否有不正確的值？\n",
    "    3. 文檔（5分）:\n",
    "        1. 方法學是否有據可查？\n",
    "        2. 代碼是否易於閱讀和重用？\n",
    "\n",
    "# [作業3]\n",
    "\n",
    "### 想像你經營一個自由載客車隊，你希望能透過數據分析以提升業績，請你思考並描述你如何規劃整體的分析/解決方案：\n",
    "\n",
    "#### 1. 核心問題為何 (tips：如何定義 「提升業績 & 你的假設」)\n",
    "\n",
    "##### Ans:\n",
    "\n",
    "- 善用有限時間提高載客量，並減少空車時間、車與車之間的衝突，平均分散並安置妥當數量的車輛。\n",
    "\n",
    "#### 2. 資料從何而來 (tips：哪些資料可能會對你想問的問題產生影響 & 資料如何蒐集)\n",
    "\n",
    "##### Ans:\n",
    "\n",
    "- 從車隊中收集每輛車於每個時段的路線與路線中載客的資訊。\n",
    "\n",
    "#### 3. 蒐集而來的資料型態為何\n",
    "\n",
    "##### Ans:\n",
    "\n",
    "- 型態為車輛與時間、星期、時段、金額、地區、路線、距離等構成之表格。\n",
    "\n",
    "#### 4. 你要回答的問題，其如何評估 (tips：你的假設如何驗證)\n",
    "\n",
    "##### Ans:\n",
    "\n",
    "- 假設數據呈現常態分布，即可透過時間及地點安排車輛，依照建議可能出現的載客地區與路線，預估當時段的乘客人數與可能收益。\n"
   ]
  }
 ],
 "metadata": {
  "anaconda-cloud": {},
  "kernelspec": {
   "display_name": "Python 3",
   "language": "python",
   "name": "python3"
  },
  "language_info": {
   "codemirror_mode": {
    "name": "ipython",
    "version": 3
   },
   "file_extension": ".py",
   "mimetype": "text/x-python",
   "name": "python",
   "nbconvert_exporter": "python",
   "pygments_lexer": "ipython3",
   "version": "3.7.6"
  }
 },
 "nbformat": 4,
 "nbformat_minor": 4
}
