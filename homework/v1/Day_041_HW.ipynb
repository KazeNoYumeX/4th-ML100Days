{
 "cells": [
  {
   "cell_type": "markdown",
   "metadata": {},
   "source": [
    "## [作業]\n",
    "\n",
    "閱讀以下兩篇文獻，了解決策樹原理，並試著回答後續的問題\n",
    "- [決策樹 (Decision Tree) - 中文](https://medium.com/@yehjames/%E8%B3%87%E6%96%99%E5%88%86%E6%9E%90-%E6%A9%9F%E5%99%A8%E5%AD%B8%E7%BF%92-%E7%AC%AC3-5%E8%AC%9B-%E6%B1%BA%E7%AD%96%E6%A8%B9-decision-tree-%E4%BB%A5%E5%8F%8A%E9%9A%A8%E6%A9%9F%E6%A3%AE%E6%9E%97-random-forest-%E4%BB%8B%E7%B4%B9-7079b0ddfbda)\n",
    "- [how decision tree works - 英文](http://dataaspirant.com/2017/01/30/how-decision-tree-algorithm-works/)\n",
    "\n",
    "### 在分類問題中，若沒有任何限制，決策樹有辦法在訓練時將 training loss 完全降成 0 嗎 ?\n",
    "\n",
    "##### Ans\n",
    "\n",
    "- 有辦法\n",
    "- 如果沒有任何限制(像Tree的深度、Node分裂的最小樣本數等)，決策樹可以在訓練數據上達到完美的擬合，即 training loss 為 0\n",
    "- 因為決策樹可以持續分裂節點，直到每個節點都只包含一種類別的數據，從而在訓練數據上達到完美的分類\n",
    "\n",
    "### 決策樹只能用在分類問題嗎？還是可以用來解決回歸問題？\n",
    "\n",
    "##### Ans\n",
    "\n",
    "- 決策樹不僅可以用於分類問題，也可以用於回歸問題\n",
    "- 於回歸問題中決策樹的工作原理與分類問題相同，但是在每個節點決策樹不是預測一個類別，而是預測一個數值(像目標變量的平均值)\n"
   ]
  }
 ],
 "metadata": {
  "kernelspec": {
   "display_name": "Python 3",
   "language": "python",
   "name": "python3"
  },
  "language_info": {
   "codemirror_mode": {
    "name": "ipython",
    "version": 3
   },
   "file_extension": ".py",
   "mimetype": "text/x-python",
   "name": "python",
   "nbconvert_exporter": "python",
   "pygments_lexer": "ipython3",
   "version": "3.6.3"
  }
 },
 "nbformat": 4,
 "nbformat_minor": 2
}
