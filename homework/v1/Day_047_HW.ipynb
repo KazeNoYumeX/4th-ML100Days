{
 "cells": [
  {
   "cell_type": "markdown",
   "metadata": {},
   "source": [
    "### [作業]\n",
    "請使用不同的資料集，並使用 hyper-parameter search 的方式，看能不能找出最佳的超參數組合"
   ]
  },
  {
   "cell_type": "code",
   "execution_count": 1,
   "metadata": {
    "ExecuteTime": {
     "end_time": "2024-04-06T08:48:45.810923Z",
     "start_time": "2024-04-06T08:48:39.414268Z"
    }
   },
   "outputs": [
    {
     "name": "stdout",
     "output_type": "stream",
     "text": [
      "Fitting 5 folds for each of 25 candidates, totalling 125 fits\n",
      "Best MSE: -3247.214455 using {'max_depth': 1, 'n_estimators': 200}\n"
     ]
    }
   ],
   "source": [
    "from sklearn import datasets, metrics\n",
    "from sklearn.ensemble import GradientBoostingRegressor\n",
    "from sklearn.model_selection import train_test_split, GridSearchCV\n",
    "\n",
    "# Load the diabetes dataset\n",
    "diabetes = datasets.load_diabetes()\n",
    "\n",
    "# Split the dataset into training set and test set\n",
    "X_train, X_test, Y_train, Y_test = train_test_split(diabetes.data, diabetes.target, test_size=0.25, random_state=42)\n",
    "\n",
    "# Create a GradientBoostingRegressor model\n",
    "clf = GradientBoostingRegressor(random_state=7)\n",
    "\n",
    "# Set the hyperparameters to be tuned\n",
    "n_estimators = [100, 200, 300, 400, 500]\n",
    "max_depth = [1, 3, 5, 7, 9]\n",
    "param_grid = dict(n_estimators=n_estimators, max_depth=max_depth)\n",
    "\n",
    "# Create a GridSearchCV object\n",
    "grid_search = GridSearchCV(clf, param_grid, scoring=\"neg_mean_squared_error\", n_jobs=-1, verbose=1)\n",
    "\n",
    "# Fit the model to the training data\n",
    "grid_result = grid_search.fit(X_train, Y_train)\n",
    "\n",
    "# Print the best score and the best parameters\n",
    "print(\"Best MSE: %f using %s\" % (grid_result.best_score_, grid_result.best_params_))"
   ]
  },
  {
   "cell_type": "code",
   "outputs": [
    {
     "name": "stdout",
     "output_type": "stream",
     "text": [
      "2812.9857279113467\n"
     ]
    }
   ],
   "source": [
    "# Use the best parameters to create a new model\n",
    "clf_best_param = GradientBoostingRegressor(max_depth=grid_result.best_params_['max_depth'],\n",
    "                                           n_estimators=grid_result.best_params_['n_estimators'])\n",
    "\n",
    "# Fit the new model to the training data\n",
    "clf_best_param.fit(X_train, Y_train)\n",
    "\n",
    "# Predict the test data\n",
    "Y_pred = clf_best_param.predict(X_test)\n",
    "\n",
    "# Print the MSE of the new model\n",
    "print(metrics.mean_squared_error(Y_test, Y_pred))"
   ],
   "metadata": {
    "collapsed": false,
    "ExecuteTime": {
     "end_time": "2024-04-06T08:48:45.893356Z",
     "start_time": "2024-04-06T08:48:45.811928Z"
    }
   },
   "execution_count": 2
  }
 ],
 "metadata": {
  "kernelspec": {
   "display_name": "Python 3",
   "language": "python",
   "name": "python3"
  },
  "language_info": {
   "codemirror_mode": {
    "name": "ipython",
    "version": 3
   },
   "file_extension": ".py",
   "mimetype": "text/x-python",
   "name": "python",
   "nbconvert_exporter": "python",
   "pygments_lexer": "ipython3",
   "version": "3.7.6"
  }
 },
 "nbformat": 4,
 "nbformat_minor": 4
}
