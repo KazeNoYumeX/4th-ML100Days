{
 "cells": [
  {
   "cell_type": "markdown",
   "metadata": {},
   "source": [
    "## [作業重點]\n",
    "了解線性回歸的模型發展歷程，並了解優勢與劣勢，以及其使用情境"
   ]
  },
  {
   "cell_type": "markdown",
   "metadata": {},
   "source": [
    "## 作業"
   ]
  },
  {
   "cell_type": "markdown",
   "metadata": {},
   "source": [
    "請閱讀以下相關文獻，並回答以下問題\n",
    "\n",
    "[Linear Regression 詳細介紹](https://brohrer.mcknote.com/zh-Hant/how_machine_learning_works/how_linear_regression_works.html)\n",
    "\n",
    "[Logistics Regression 詳細介紹](https://medium.com/@yehjames/%E8%B3%87%E6%96%99%E5%88%86%E6%9E%90-%E6%A9%9F%E5%99%A8%E5%AD%B8%E7%BF%92-%E7%AC%AC3-3%E8%AC%9B-%E7%B7%9A%E6%80%A7%E5%88%86%E9%A1%9E-%E9%82%8F%E8%BC%AF%E6%96%AF%E5%9B%9E%E6%AD%B8-logistic-regression-%E4%BB%8B%E7%B4%B9-a1a5f47017e5)\n"
   ]
  },
  {
   "cell_type": "markdown",
   "metadata": {},
   "source": [
    "### 1. 線性回歸模型能夠準確預測非線性關係的資料集嗎?\n",
    "\n",
    "##### Ans\n",
    "\n",
    "- 對於非線性關係的資料集，線性回歸模型可能無法準確預測\n",
    "\n",
    "### 2. 回歸模型是否對資料分布有基本假設?\n",
    "\n",
    "##### Ans\n",
    "\n",
    "- 是，回歸模型對資料分布有基本假設\n",
    "    - 線性性與可加性：假設因變數與自變數之間的關係是線性的，且自變數的影響是可加的。\n",
    "    - 誤差項（殘差）之間的獨立性：假設誤差項之間是獨立的，也就是說，一個誤差項不能影響到另一個誤差項。\n",
    "    - 不應將自變量相關聯：沒有這種現像被稱為多重共線性。\n",
    "    - 錯誤必須具有恆定的方差：這種現象稱為同方差性。非常數方差的存在被稱為異方差性。\n",
    "    - 誤差項的正態分佈。\n"
   ]
  }
 ],
 "metadata": {
  "kernelspec": {
   "display_name": "Python 3",
   "language": "python",
   "name": "python3"
  },
  "language_info": {
   "codemirror_mode": {
    "name": "ipython",
    "version": 3
   },
   "file_extension": ".py",
   "mimetype": "text/x-python",
   "name": "python",
   "nbconvert_exporter": "python",
   "pygments_lexer": "ipython3",
   "version": "3.6.2"
  }
 },
 "nbformat": 4,
 "nbformat_minor": 2
}
