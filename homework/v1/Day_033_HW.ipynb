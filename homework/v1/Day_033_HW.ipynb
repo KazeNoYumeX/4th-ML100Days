{
 "cells": [
  {
   "cell_type": "markdown",
   "metadata": {},
   "source": [
    "## 練習時間"
   ]
  },
  {
   "cell_type": "markdown",
   "metadata": {},
   "source": [
    "請觀看李宏毅教授以神奇寶貝進化 CP 值預測的範例，解說何謂機器學習與過擬合。並回答以下問題"
   ]
  },
  {
   "cell_type": "markdown",
   "metadata": {},
   "source": [
    "[youtube](https://www.youtube.com/watch?v=fegAeph9UaA)"
   ]
  },
  {
   "cell_type": "markdown",
   "metadata": {},
   "source": [
    "### 1. 模型的泛化能力 (Generalization) 是指什麼？ \n",
    "\n",
    "##### Ans\n",
    "\n",
    "- Generalization 是指機器學習模型對新鮮樣本的適應能力。\n",
    "- 簡單來說，模型在面對未見過的數據（即測試數據）時，仍能保持良好的預測或分類性能，這種能力就是泛化能力。\n",
    "- 如果一個模型在訓練集上表現得很好，但在測試集（即從未見過的數據）上表現得很差，那麼我們就說這個模型的泛化能力弱\n",
    "\n",
    "### 2. 分類問題與回歸問題分別可用的目標函數有哪些？\n",
    "\n",
    "##### Ans\n",
    "\n",
    "- 分類問題，常見的目標函數有\n",
    "    - Cross Entropy Loss\n",
    "    - Log Loss\n",
    "    - Hinge Loss\n",
    "- 回歸問題，常見的目標函數有\n",
    "    - Mean Squared Error\n",
    "    - Mean Absolute Error\n",
    "    - Hinge Loss"
   ]
  }
 ],
 "metadata": {
  "kernelspec": {
   "display_name": "Python 3",
   "language": "python",
   "name": "python3"
  },
  "language_info": {
   "codemirror_mode": {
    "name": "ipython",
    "version": 3
   },
   "file_extension": ".py",
   "mimetype": "text/x-python",
   "name": "python",
   "nbconvert_exporter": "python",
   "pygments_lexer": "ipython3",
   "version": "3.6.2"
  }
 },
 "nbformat": 4,
 "nbformat_minor": 2
}
