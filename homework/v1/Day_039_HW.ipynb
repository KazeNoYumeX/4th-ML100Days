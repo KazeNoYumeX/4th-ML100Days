{
 "cells": [
  {
   "cell_type": "markdown",
   "metadata": {},
   "source": [
    "## [作業重點]\n",
    "清楚了解 L1, L2 的意義與差異為何，並了解 LASSO 與 Ridge 之間的差異與使用情境"
   ]
  },
  {
   "cell_type": "markdown",
   "metadata": {},
   "source": [
    "## [作業]\n",
    "\n",
    "請閱讀相關文獻，並回答下列問題\n",
    "\n",
    "[脊回歸 (Ridge Regression)](https://blog.csdn.net/daunxx/article/details/51578787)\n",
    "[Linear, Ridge, Lasso Regression 本質區別](https://www.zhihu.com/question/38121173)\n",
    "\n",
    "### 1. LASSO 回歸可以被用來作為 Feature selection 的工具，請了解 LASSO 模型為什麼可用來作 Feature selection\n",
    "\n",
    "##### Ans\n",
    "\n",
    "- 原因在於 LASSO 使用了 L1 正則化。\n",
    "- L1 正則化有一個特性，就是在優化過程中，它會讓一些特徵的權重變為 0。\n",
    "- 因此 LASSO 回歸可以自動進行特徵選擇，並且產生一個稀疏模型，只有少數的特徵有非零權重。\n",
    "\n",
    "### 2. 當自變數 (X) 存在高度共線性時，Ridge Regression 可以處理這樣的問題嗎?\n",
    "\n",
    "##### Ans\n",
    "\n",
    "- 可以\n",
    "- 共線性問題會導致線性回歸模型的權重在數值上非常大，這是因為當兩個（或以上）變數高度相關時，模型會嘗試找到一種方式來平衡它們的權重，以減少這些變數之間的小變動所導致的預測變動。\n",
    "- Ridge Regression 通過引入 L2 正則化項來解決這個問題，L2 正則化項會將權重的平方和加入到損失函數中，從而懲罰大的權重值。\n",
    "- 因此即使變數存在高度共線性，Ridge Regression 也能得到一個較好的解。\n"
   ]
  }
 ],
 "metadata": {
  "kernelspec": {
   "display_name": "Python 3",
   "language": "python",
   "name": "python3"
  },
  "language_info": {
   "codemirror_mode": {
    "name": "ipython",
    "version": 3
   },
   "file_extension": ".py",
   "mimetype": "text/x-python",
   "name": "python",
   "nbconvert_exporter": "python",
   "pygments_lexer": "ipython3",
   "version": "3.6.2"
  }
 },
 "nbformat": 4,
 "nbformat_minor": 2
}
