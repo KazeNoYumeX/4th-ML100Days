{
 "cells": [
  {
   "cell_type": "markdown",
   "metadata": {
    "collapsed": true
   },
   "source": [
    "# 作業 : (Kaggle)鐵達尼生存預測\n",
    "\n",
    "- 分數以網站評分結果為準, 請同學實際將提交檔(*.csv)上傳試試看  \n",
    "https://www.kaggle.com/c/titanic/submit"
   ]
  },
  {
   "metadata": {},
   "cell_type": "markdown",
   "source": "![submission](data:image/jpeg;base64,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)"
  },
  {
   "cell_type": "markdown",
   "metadata": {},
   "source": [
    "# [作業目標]\n",
    "- 試著模仿範例寫法, 在鐵達尼生存預測中, 觀察觀查混合泛化 (Blending) 的寫法與效果"
   ]
  },
  {
   "cell_type": "markdown",
   "metadata": {},
   "source": [
    "# [作業重點]\n",
    "- 觀察混合泛化的準確度 (In[14]), 是否比單一模型準確度為高 (In[11~13])  \n",
    "- 除了我們的權重, 同學也可以試著自行調整權重 (注意:權重和=1), 看看有什麼影響\n",
    "- Hint : 除了權重, 分類預測的調整, 還可以調整什麼地方?"
   ]
  },
  {
   "cell_type": "code",
   "metadata": {
    "ExecuteTime": {
     "end_time": "2024-04-09T05:21:49.818703Z",
     "start_time": "2024-04-09T05:21:49.731975Z"
    }
   },
   "source": [
    "import pandas as pd\n",
    "import numpy as np\n",
    "import warnings\n",
    "from IPython.display import display\n",
    "from sklearn.preprocessing import MinMaxScaler\n",
    "\n",
    "warnings.filterwarnings('ignore')\n",
    "\n",
    "data_path = 'data/'\n",
    "df_train = pd.read_csv(data_path + 'titanic_train.csv')\n",
    "df_test = pd.read_csv(data_path + 'titanic_test.csv')\n",
    "\n",
    "train_Y = df_train['Survived']\n",
    "ids = df_test['PassengerId']\n",
    "df_train = df_train.drop(['PassengerId', 'Survived'], axis=1)\n",
    "df_test = df_test.drop(['PassengerId'], axis=1)\n",
    "df = pd.concat([df_train, df_test])\n",
    "df.head()"
   ],
   "outputs": [
    {
     "data": {
      "text/plain": [
       "   Pclass                                               Name     Sex   Age  \\\n",
       "0       3                            Braund, Mr. Owen Harris    male  22.0   \n",
       "1       1  Cumings, Mrs. John Bradley (Florence Briggs Th...  female  38.0   \n",
       "2       3                             Heikkinen, Miss. Laina  female  26.0   \n",
       "3       1       Futrelle, Mrs. Jacques Heath (Lily May Peel)  female  35.0   \n",
       "4       3                           Allen, Mr. William Henry    male  35.0   \n",
       "\n",
       "   SibSp  Parch            Ticket     Fare Cabin Embarked  \n",
       "0      1      0         A/5 21171   7.2500   NaN        S  \n",
       "1      1      0          PC 17599  71.2833   C85        C  \n",
       "2      0      0  STON/O2. 3101282   7.9250   NaN        S  \n",
       "3      1      0            113803  53.1000  C123        S  \n",
       "4      0      0            373450   8.0500   NaN        S  "
      ],
      "text/html": [
       "<div>\n",
       "<style scoped>\n",
       "    .dataframe tbody tr th:only-of-type {\n",
       "        vertical-align: middle;\n",
       "    }\n",
       "\n",
       "    .dataframe tbody tr th {\n",
       "        vertical-align: top;\n",
       "    }\n",
       "\n",
       "    .dataframe thead th {\n",
       "        text-align: right;\n",
       "    }\n",
       "</style>\n",
       "<table border=\"1\" class=\"dataframe\">\n",
       "  <thead>\n",
       "    <tr style=\"text-align: right;\">\n",
       "      <th></th>\n",
       "      <th>Pclass</th>\n",
       "      <th>Name</th>\n",
       "      <th>Sex</th>\n",
       "      <th>Age</th>\n",
       "      <th>SibSp</th>\n",
       "      <th>Parch</th>\n",
       "      <th>Ticket</th>\n",
       "      <th>Fare</th>\n",
       "      <th>Cabin</th>\n",
       "      <th>Embarked</th>\n",
       "    </tr>\n",
       "  </thead>\n",
       "  <tbody>\n",
       "    <tr>\n",
       "      <th>0</th>\n",
       "      <td>3</td>\n",
       "      <td>Braund, Mr. Owen Harris</td>\n",
       "      <td>male</td>\n",
       "      <td>22.0</td>\n",
       "      <td>1</td>\n",
       "      <td>0</td>\n",
       "      <td>A/5 21171</td>\n",
       "      <td>7.2500</td>\n",
       "      <td>NaN</td>\n",
       "      <td>S</td>\n",
       "    </tr>\n",
       "    <tr>\n",
       "      <th>1</th>\n",
       "      <td>1</td>\n",
       "      <td>Cumings, Mrs. John Bradley (Florence Briggs Th...</td>\n",
       "      <td>female</td>\n",
       "      <td>38.0</td>\n",
       "      <td>1</td>\n",
       "      <td>0</td>\n",
       "      <td>PC 17599</td>\n",
       "      <td>71.2833</td>\n",
       "      <td>C85</td>\n",
       "      <td>C</td>\n",
       "    </tr>\n",
       "    <tr>\n",
       "      <th>2</th>\n",
       "      <td>3</td>\n",
       "      <td>Heikkinen, Miss. Laina</td>\n",
       "      <td>female</td>\n",
       "      <td>26.0</td>\n",
       "      <td>0</td>\n",
       "      <td>0</td>\n",
       "      <td>STON/O2. 3101282</td>\n",
       "      <td>7.9250</td>\n",
       "      <td>NaN</td>\n",
       "      <td>S</td>\n",
       "    </tr>\n",
       "    <tr>\n",
       "      <th>3</th>\n",
       "      <td>1</td>\n",
       "      <td>Futrelle, Mrs. Jacques Heath (Lily May Peel)</td>\n",
       "      <td>female</td>\n",
       "      <td>35.0</td>\n",
       "      <td>1</td>\n",
       "      <td>0</td>\n",
       "      <td>113803</td>\n",
       "      <td>53.1000</td>\n",
       "      <td>C123</td>\n",
       "      <td>S</td>\n",
       "    </tr>\n",
       "    <tr>\n",
       "      <th>4</th>\n",
       "      <td>3</td>\n",
       "      <td>Allen, Mr. William Henry</td>\n",
       "      <td>male</td>\n",
       "      <td>35.0</td>\n",
       "      <td>0</td>\n",
       "      <td>0</td>\n",
       "      <td>373450</td>\n",
       "      <td>8.0500</td>\n",
       "      <td>NaN</td>\n",
       "      <td>S</td>\n",
       "    </tr>\n",
       "  </tbody>\n",
       "</table>\n",
       "</div>"
      ]
     },
     "execution_count": 1,
     "metadata": {},
     "output_type": "execute_result"
    }
   ],
   "execution_count": 1
  },
  {
   "cell_type": "code",
   "metadata": {
    "ExecuteTime": {
     "end_time": "2024-04-09T05:21:49.827866Z",
     "start_time": "2024-04-09T05:21:49.819213Z"
    }
   },
   "source": [
    "# 檢查 DataFrame 空缺值的狀態\n",
    "def na_check(df_data):\n",
    "    data_na = (df_data.isnull().sum() / len(df_data)) * 100\n",
    "    data_na = data_na.drop(data_na[data_na == 0].index).sort_values(ascending=False)\n",
    "    missing_data = pd.DataFrame({'Missing Ratio': data_na})\n",
    "    display(missing_data.head(10))\n",
    "\n",
    "\n",
    "na_check(df)"
   ],
   "outputs": [
    {
     "data": {
      "text/plain": [
       "          Missing Ratio\n",
       "Cabin         77.463713\n",
       "Age           20.091673\n",
       "Embarked       0.152788\n",
       "Fare           0.076394"
      ],
      "text/html": [
       "<div>\n",
       "<style scoped>\n",
       "    .dataframe tbody tr th:only-of-type {\n",
       "        vertical-align: middle;\n",
       "    }\n",
       "\n",
       "    .dataframe tbody tr th {\n",
       "        vertical-align: top;\n",
       "    }\n",
       "\n",
       "    .dataframe thead th {\n",
       "        text-align: right;\n",
       "    }\n",
       "</style>\n",
       "<table border=\"1\" class=\"dataframe\">\n",
       "  <thead>\n",
       "    <tr style=\"text-align: right;\">\n",
       "      <th></th>\n",
       "      <th>Missing Ratio</th>\n",
       "    </tr>\n",
       "  </thead>\n",
       "  <tbody>\n",
       "    <tr>\n",
       "      <th>Cabin</th>\n",
       "      <td>77.463713</td>\n",
       "    </tr>\n",
       "    <tr>\n",
       "      <th>Age</th>\n",
       "      <td>20.091673</td>\n",
       "    </tr>\n",
       "    <tr>\n",
       "      <th>Embarked</th>\n",
       "      <td>0.152788</td>\n",
       "    </tr>\n",
       "    <tr>\n",
       "      <th>Fare</th>\n",
       "      <td>0.076394</td>\n",
       "    </tr>\n",
       "  </tbody>\n",
       "</table>\n",
       "</div>"
      ]
     },
     "metadata": {},
     "output_type": "display_data"
    }
   ],
   "execution_count": 2
  },
  {
   "cell_type": "code",
   "metadata": {
    "collapsed": true,
    "ExecuteTime": {
     "end_time": "2024-04-09T05:21:49.835836Z",
     "start_time": "2024-04-09T05:21:49.828873Z"
    }
   },
   "source": [
    "# 以下 In[3]~In[10] 只是鐵達尼預測中的一組特徵工程, 並以此組特徵工程跑參數, 若更換其他特徵工程, In[10]的參數需要重新跑\n",
    "# Sex : 直接轉男 0 女 1\n",
    "df[\"Sex\"] = df[\"Sex\"].map({\"male\": 0, \"female\": 1})\n",
    "# Fare : 用 log 去偏態, 0 則直接取 0\n",
    "df[\"Fare\"] = df[\"Fare\"].map(lambda i: np.log(i) if i > 0 else 0)\n",
    "# Age : 缺值用中位數補\n",
    "df[\"Age\"] = df[\"Age\"].fillna(df['Age'].median())"
   ],
   "outputs": [],
   "execution_count": 3
  },
  {
   "cell_type": "code",
   "metadata": {
    "collapsed": true,
    "ExecuteTime": {
     "end_time": "2024-04-09T05:21:49.847668Z",
     "start_time": "2024-04-09T05:21:49.836842Z"
    }
   },
   "source": [
    "# Title 的 特徵工程 : 將各種頭銜按照類型分類, 最後取 One Hot\n",
    "df_title = [i.split(\",\")[1].split(\".\")[0].strip() for i in df[\"Name\"]]\n",
    "df[\"Title\"] = pd.Series(df_title)\n",
    "df[\"Title\"] = df[\"Title\"].replace(\n",
    "    ['Lady', 'the Countess', 'Countess', 'Capt', 'Col', 'Don', 'Dr', 'Major', 'Rev', 'Sir', 'Jonkheer', 'Dona'], 'Rare')\n",
    "df[\"Title\"] = df[\"Title\"].map({\"Master\": 0, \"Miss\": 1, \"Ms\": 1, \"Mme\": 1, \"Mlle\": 1, \"Mrs\": 1, \"Mr\": 2, \"Rare\": 3})\n",
    "df[\"Title\"] = df[\"Title\"].astype(int)\n",
    "df = pd.get_dummies(df, columns=[\"Title\"])"
   ],
   "outputs": [],
   "execution_count": 4
  },
  {
   "cell_type": "code",
   "metadata": {
    "collapsed": true,
    "ExecuteTime": {
     "end_time": "2024-04-09T05:21:49.855902Z",
     "start_time": "2024-04-09T05:21:49.847668Z"
    }
   },
   "source": [
    "# 新建:家庭大小 (FSize)特徵, 並依照大小分別建獨立欄位\n",
    "df[\"FSize\"] = df[\"SibSp\"] + df[\"Parch\"] + 1\n",
    "df['Single'] = df['FSize'].map(lambda s: 1 if s == 1 else 0)\n",
    "df['SmallF'] = df['FSize'].map(lambda s: 1 if s == 2 else 0)\n",
    "df['MedF'] = df['FSize'].map(lambda s: 1 if 3 <= s <= 4 else 0)\n",
    "df['LargeF'] = df['FSize'].map(lambda s: 1 if s >= 5 else 0)"
   ],
   "outputs": [],
   "execution_count": 5
  },
  {
   "cell_type": "code",
   "metadata": {
    "collapsed": true,
    "ExecuteTime": {
     "end_time": "2024-04-09T05:21:49.864568Z",
     "start_time": "2024-04-09T05:21:49.856907Z"
    }
   },
   "source": [
    "# Ticket : 如果不只是數字-取第一個空白之前的字串(去除'.'與'/'), 如果只是數字-設為'X', 最後再取 One Hot\n",
    "Ticket = []\n",
    "for i in list(df.Ticket):\n",
    "    if not i.isdigit():\n",
    "        Ticket.append(i.replace(\".\", \"\").replace(\"/\", \"\").strip().split(' ')[0])\n",
    "    else:\n",
    "        Ticket.append(\"X\")\n",
    "df[\"Ticket\"] = Ticket\n",
    "df = pd.get_dummies(df, columns=[\"Ticket\"], prefix=\"T\")"
   ],
   "outputs": [],
   "execution_count": 6
  },
  {
   "cell_type": "code",
   "metadata": {
    "collapsed": true,
    "ExecuteTime": {
     "end_time": "2024-04-09T05:21:49.872690Z",
     "start_time": "2024-04-09T05:21:49.865575Z"
    }
   },
   "source": [
    "# Cabin 依照第一碼分類, 再取 One Hot\n",
    "df[\"Cabin\"] = pd.Series([i[0] if not pd.isnull(i) else 'X' for i in df['Cabin']])\n",
    "df = pd.get_dummies(df, columns=[\"Cabin\"], prefix=\"Cabin\")"
   ],
   "outputs": [],
   "execution_count": 7
  },
  {
   "cell_type": "code",
   "metadata": {
    "collapsed": true,
    "ExecuteTime": {
     "end_time": "2024-04-09T05:21:49.883468Z",
     "start_time": "2024-04-09T05:21:49.873700Z"
    }
   },
   "source": [
    "# Embarked, Pclass 取 One Hot\n",
    "df = pd.get_dummies(df, columns=[\"Embarked\"], prefix=\"Em\")\n",
    "df[\"Pclass\"] = df[\"Pclass\"].astype(\"category\")\n",
    "df = pd.get_dummies(df, columns=[\"Pclass\"], prefix=\"Pc\")\n",
    "\n",
    "# 捨棄 Name 欄位\n",
    "df.drop(labels=[\"Name\"], axis=1, inplace=True)"
   ],
   "outputs": [],
   "execution_count": 8
  },
  {
   "cell_type": "code",
   "metadata": {
    "collapsed": true,
    "ExecuteTime": {
     "end_time": "2024-04-09T05:21:50.062224Z",
     "start_time": "2024-04-09T05:21:49.885474Z"
    }
   },
   "source": [
    "# 將資料最大最小化\n",
    "df = MinMaxScaler().fit_transform(df)\n",
    "\n",
    "# 將前述轉換完畢資料 df , 重新切成 train_X, test_X\n",
    "train_num = train_Y.shape[0]\n",
    "train_X = df[:train_num]\n",
    "test_X = df[train_num:]\n",
    "\n",
    "# 使用三種模型 : 邏輯斯迴歸 / 梯度提升機 / 隨機森林, 參數使用 Random Search 尋找\n",
    "from sklearn.linear_model import LogisticRegression\n",
    "from sklearn.ensemble import GradientBoostingClassifier, RandomForestClassifier\n",
    "\n",
    "linear = LogisticRegression(tol=0.001, penalty='l2', fit_intercept=True, C=1.0)\n",
    "\n",
    "gdbt = GradientBoostingClassifier(tol=100, subsample=0.75, n_estimators=250, max_features=20, max_depth=6,\n",
    "                                  learning_rate=0.03)\n",
    "\n",
    "rf = RandomForestClassifier(n_estimators=100, min_samples_split=2, min_samples_leaf=1, max_features='sqrt', max_depth=6,\n",
    "                            bootstrap=True)"
   ],
   "outputs": [],
   "execution_count": 9
  },
  {
   "cell_type": "code",
   "metadata": {
    "collapsed": true,
    "ExecuteTime": {
     "end_time": "2024-04-09T05:21:50.079758Z",
     "start_time": "2024-04-09T05:21:50.063228Z"
    }
   },
   "source": [
    "# 線性迴歸預測檔 (結果有部分隨機, 請以 Kaggle 計算的得分為準, 以下模型同理)\n",
    "linear.fit(train_X, train_Y)\n",
    "linear_pred = linear.predict_proba(test_X)[:, 1]\n",
    "\n",
    "sub = pd.DataFrame({'PassengerId': ids, 'Survived': linear_pred})\n",
    "sub['Survived'] = sub['Survived'].map(lambda x: 1 if x > 0.5 else 0)\n",
    "sub.to_csv('titanic_lr.csv', index=False)"
   ],
   "outputs": [],
   "execution_count": 10
  },
  {
   "cell_type": "code",
   "metadata": {
    "collapsed": true,
    "ExecuteTime": {
     "end_time": "2024-04-09T05:21:51.066591Z",
     "start_time": "2024-04-09T05:21:50.080762Z"
    }
   },
   "source": [
    "# 梯度提升機預測檔 \n",
    "gdbt.fit(train_X, train_Y)\n",
    "gdbt_pred = gdbt.predict_proba(test_X)[:, 1]\n",
    "\n",
    "sub = pd.DataFrame({'PassengerId': ids, 'Survived': gdbt_pred})\n",
    "sub['Survived'] = sub['Survived'].map(lambda x: 1 if x > 0.5 else 0)\n",
    "sub.to_csv('titanic_gdbt.csv', index=False)"
   ],
   "outputs": [],
   "execution_count": 11
  },
  {
   "cell_type": "code",
   "metadata": {
    "collapsed": true,
    "ExecuteTime": {
     "end_time": "2024-04-09T05:21:51.204446Z",
     "start_time": "2024-04-09T05:21:51.067596Z"
    }
   },
   "source": [
    "# 隨機森林預測檔\n",
    "rf.fit(train_X, train_Y)\n",
    "rf_pred = rf.predict_proba(test_X)[:, 1]\n",
    "\n",
    "sub = pd.DataFrame({'PassengerId': ids, 'Survived': rf_pred})\n",
    "sub['Survived'] = sub['Survived'].map(lambda x: 1 if x > 0.5 else 0)\n",
    "sub.to_csv('titanic_rf.csv', index=False)"
   ],
   "outputs": [],
   "execution_count": 12
  },
  {
   "cell_type": "markdown",
   "metadata": {
    "collapsed": true
   },
   "source": [
    "# [作業]\n",
    "- 雖然同樣是混合泛化，分類預測其實與回歸預測有相當多的差異性，\n",
    "因為鐵達尼預測的結果是 '生存/死亡'，輸出不是 0 就是 1  \n",
    "因此要用權重混合時，需要以以機率的形式混合，因此我們在作業前幾格當中，先幫各位同學把預測值寫成了機率的形式  \n",
    "(請同學把下列程式完成，並將結果提交到 Kaggle 網站看看結果)\n",
    "\n",
    "- 但是光是這樣，分類問題的混合泛化就能比單模預測還要好嗎?  \n",
    "已經快要期中考了，這裡請同學挑戰看看，還有沒有什麼方法可以改進混合泛化的結果?"
   ]
  },
  {
   "cell_type": "code",
   "metadata": {
    "ExecuteTime": {
     "end_time": "2024-04-09T05:21:51.211274Z",
     "start_time": "2024-04-09T05:21:51.205451Z"
    }
   },
   "source": [
    "# 混合泛化預測檔 \n",
    "blending_pred = linear_pred * 0.20 + gdbt_pred * 0.30 + rf_pred * 0.50\n",
    "sub = pd.DataFrame({'PassengerId': ids, 'Survived': blending_pred})\n",
    "sub['Survived'] = sub['Survived'].map(lambda x: 1 if x > 0.5 else 0)\n",
    "sub.to_csv('titanic_blending.csv', index=False)"
   ],
   "outputs": [],
   "execution_count": 13
  }
 ],
 "metadata": {
  "kernelspec": {
   "display_name": "Python 3",
   "language": "python",
   "name": "python3"
  },
  "language_info": {
   "codemirror_mode": {
    "name": "ipython",
    "version": 3
   },
   "file_extension": ".py",
   "mimetype": "text/x-python",
   "name": "python",
   "nbconvert_exporter": "python",
   "pygments_lexer": "ipython3",
   "version": "3.7.0"
  }
 },
 "nbformat": 4,
 "nbformat_minor": 2
}
